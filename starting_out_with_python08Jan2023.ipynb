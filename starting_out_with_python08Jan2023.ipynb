{
  "nbformat": 4,
  "nbformat_minor": 0,
  "metadata": {
    "colab": {
      "provenance": [],
      "authorship_tag": "ABX9TyOJHw8tYx+EeaWd19D6KqgC",
      "include_colab_link": true
    },
    "kernelspec": {
      "name": "python3",
      "display_name": "Python 3"
    },
    "language_info": {
      "name": "python"
    }
  },
  "cells": [
    {
      "cell_type": "markdown",
      "metadata": {
        "id": "view-in-github",
        "colab_type": "text"
      },
      "source": [
        "<a href=\"https://colab.research.google.com/github/aleeofficertraining/Data-Analytics-201/blob/main/starting_out_with_python08Jan2023.ipynb\" target=\"_parent\"><img src=\"https://colab.research.google.com/assets/colab-badge.svg\" alt=\"Open In Colab\"/></a>"
      ]
    },
    {
      "cell_type": "markdown",
      "source": [],
      "metadata": {
        "id": "iYkFEzP8OBaE"
      }
    },
    {
      "cell_type": "markdown",
      "source": [
        "# Calculating a Percentage"
      ],
      "metadata": {
        "id": "QioDJIHvD3qz"
      }
    },
    {
      "cell_type": "code",
      "source": [
        "#1. Get the original price of the item.  \n",
        "#2. Calculate 20 percent of the original price. This is the amount of the discount.  \n",
        "#3. Subtract the discount from the original price. This is the sale price.  \n",
        "#4. Display the sale price. \n"
      ],
      "metadata": {
        "id": "eWkX7TSFB-7j"
      },
      "execution_count": null,
      "outputs": []
    },
    {
      "cell_type": "code",
      "execution_count": null,
      "metadata": {
        "id": "GE6kSnsyATTp"
      },
      "outputs": [],
      "source": [
        "# Get the item's original price.\n",
        "original_price = float(input(\"Enter the item's original price: \")) \n",
        "#Gaddis, Tony. Starting Out with Python (2-downloads) (p. 55). Pearson Education. Kindle Edition. "
      ]
    },
    {
      "cell_type": "code",
      "source": [
        "# Calculate the discount price.\n",
        "discount = original_price * 0.2"
      ],
      "metadata": {
        "id": "62f8G4RUAb20"
      },
      "execution_count": null,
      "outputs": []
    },
    {
      "cell_type": "code",
      "source": [
        "# Calculate the sale price.\n",
        "sale_price = original_price - discount"
      ],
      "metadata": {
        "id": "Nkf6CW0PAmts"
      },
      "execution_count": null,
      "outputs": []
    },
    {
      "cell_type": "code",
      "source": [
        "# Display the sale price\n",
        "print('The sale price is', round(sale_price, 2))"
      ],
      "metadata": {
        "colab": {
          "base_uri": "https://localhost:8080/"
        },
        "id": "V28Cldd3AuXs",
        "outputId": "c1045e85-13a1-4925-8107-f0835a9818ff"
      },
      "execution_count": null,
      "outputs": [
        {
          "output_type": "stream",
          "name": "stdout",
          "text": [
            "The sale price is 12.48\n"
          ]
        }
      ]
    },
    {
      "cell_type": "code",
      "source": [],
      "metadata": {
        "id": "N1ciQ_CRA55b"
      },
      "execution_count": null,
      "outputs": []
    },
    {
      "cell_type": "markdown",
      "source": [
        "#Floating Point and integer division"
      ],
      "metadata": {
        "id": "3HLHVQ3BDn8y"
      }
    },
    {
      "cell_type": "code",
      "source": [
        "# / and // are called division operators."
      ],
      "metadata": {
        "id": "UqPs5skvEBNM"
      },
      "execution_count": null,
      "outputs": []
    },
    {
      "cell_type": "code",
      "source": [
        "5 /2 "
      ],
      "metadata": {
        "colab": {
          "base_uri": "https://localhost:8080/"
        },
        "id": "7uvGMMvtDrvB",
        "outputId": "adc9b1ac-2f73-4bcf-9b7d-fe64d116871e"
      },
      "execution_count": null,
      "outputs": [
        {
          "output_type": "execute_result",
          "data": {
            "text/plain": [
              "2.5"
            ]
          },
          "metadata": {},
          "execution_count": 21
        }
      ]
    },
    {
      "cell_type": "code",
      "source": [
        "5 //2"
      ],
      "metadata": {
        "colab": {
          "base_uri": "https://localhost:8080/"
        },
        "id": "4u6tOVdhD8RJ",
        "outputId": "dc120dda-c3c2-46ae-d082-26fb47850795"
      },
      "execution_count": null,
      "outputs": [
        {
          "output_type": "execute_result",
          "data": {
            "text/plain": [
              "2"
            ]
          },
          "metadata": {},
          "execution_count": 22
        }
      ]
    },
    {
      "cell_type": "code",
      "source": [
        "#When the result is positive, it is truncated, which means that its fractional part is  thrown away.  \n",
        "#When the result is negative, it is rounded away from zero to the nearest integer.  \n",
        "#The following interactive session demonstrates how the // operator works when the result  is negative:  >>> −5 // 2 e  −3 \n",
        "\n",
        "# Operator preference"
      ],
      "metadata": {
        "id": "tyrB50wCD9hZ"
      },
      "execution_count": null,
      "outputs": []
    },
    {
      "cell_type": "code",
      "source": [
        " -5 //2"
      ],
      "metadata": {
        "colab": {
          "base_uri": "https://localhost:8080/"
        },
        "id": "QlRce3O4EoCr",
        "outputId": "72e7f7ee-8aff-472b-cee9-f1663bd9c401"
      },
      "execution_count": null,
      "outputs": [
        {
          "output_type": "execute_result",
          "data": {
            "text/plain": [
              "-3"
            ]
          },
          "metadata": {},
          "execution_count": 23
        }
      ]
    },
    {
      "cell_type": "code",
      "source": [
        "#1. Exponentiation: **  2. Multiplication, division, and remainder: * / // %  3. Addition and subtraction: + − "
      ],
      "metadata": {
        "id": "2T1h3noKEpqj"
      },
      "execution_count": null,
      "outputs": []
    },
    {
      "cell_type": "code",
      "source": [
        "2 ** 3"
      ],
      "metadata": {
        "colab": {
          "base_uri": "https://localhost:8080/"
        },
        "id": "i-D2Hg5TE40-",
        "outputId": "d0d850f1-b8d9-444e-908c-af998ca1b860"
      },
      "execution_count": null,
      "outputs": [
        {
          "output_type": "execute_result",
          "data": {
            "text/plain": [
              "8"
            ]
          },
          "metadata": {},
          "execution_count": 24
        }
      ]
    },
    {
      "cell_type": "code",
      "source": [
        "#Obtain test scores 1, 2, 3\n",
        "test_1 = float(input(\"Enter test1 score: \"))\n",
        "test_2 = float(input(\"Enter test2 score: \"))\n",
        "test_3 = float(input(\"Enter test3 score: \"))"
      ],
      "metadata": {
        "colab": {
          "base_uri": "https://localhost:8080/"
        },
        "id": "MXLnFad-F5FT",
        "outputId": "f6ef343e-7af6-41b7-c38e-6a2447ae4010"
      },
      "execution_count": null,
      "outputs": [
        {
          "name": "stdout",
          "output_type": "stream",
          "text": [
            "Enter test1 score: 90\n",
            "Enter test2 score: 85\n",
            "Enter test3 score: 95\n"
          ]
        }
      ]
    },
    {
      "cell_type": "code",
      "source": [
        "average_3tests = (test_1 + test_2 + test_3)/3"
      ],
      "metadata": {
        "id": "xdG70CFyPKHa"
      },
      "execution_count": null,
      "outputs": []
    },
    {
      "cell_type": "code",
      "source": [
        "#Display the average\n",
        "print('The average of 3 tests is', round (average_3tests, 2))"
      ],
      "metadata": {
        "colab": {
          "base_uri": "https://localhost:8080/"
        },
        "id": "Z4DnwjOhQMn4",
        "outputId": "6f8b5f10-d953-4df7-ce60-2b3ca4432d82"
      },
      "execution_count": null,
      "outputs": [
        {
          "output_type": "stream",
          "name": "stdout",
          "text": [
            "The average of 3 tests is 90.0\n"
          ]
        }
      ]
    },
    {
      "cell_type": "code",
      "source": [
        "#Remainder Operator is %\n",
        "17 % 3"
      ],
      "metadata": {
        "colab": {
          "base_uri": "https://localhost:8080/"
        },
        "id": "u6aggTUYQkAk",
        "outputId": "3627208b-9c87-4889-d30c-8c21c63caa90"
      },
      "execution_count": null,
      "outputs": [
        {
          "output_type": "execute_result",
          "data": {
            "text/plain": [
              "2"
            ]
          },
          "metadata": {},
          "execution_count": 34
        }
      ]
    },
    {
      "cell_type": "code",
      "source": [],
      "metadata": {
        "id": "76C1d6syRHer"
      },
      "execution_count": null,
      "outputs": []
    }
  ]
}